{
 "cells": [
  {
   "cell_type": "code",
   "execution_count": 218,
   "id": "4b945334-6fe4-4734-995f-33d420f71ab3",
   "metadata": {},
   "outputs": [],
   "source": [
    "import numpy as np\n",
    "import pandas as pd\n",
    "from functools import partial\n",
    "import sklearn\n",
    "from random import choice"
   ]
  },
  {
   "cell_type": "code",
   "execution_count": 9,
   "id": "95682358-be4c-4c22-beef-bc1c91d313e5",
   "metadata": {},
   "outputs": [],
   "source": [
    "from folktables import ACSDataSource, ACSEmployment, ACSPublicCoverage\n",
    "data_source = ACSDataSource(survey_year=2018, horizon='1-Year', survey='person')\n",
    "acs_data = data_source.get_data(states=['NY'], download=True)\n",
    "X, y, group = ACSPublicCoverage.df_to_numpy(acs_data)\n",
    "\n",
    "columns = [\n",
    "            'AGEP',\n",
    "            'SCHL',\n",
    "            'MAR',\n",
    "            'SEX',\n",
    "            'DIS',\n",
    "            'ESP',\n",
    "            'CIT',\n",
    "            'MIG',\n",
    "            'MIL',\n",
    "            'ANC',\n",
    "            'NATIVITY',\n",
    "            'DEAR',\n",
    "            'DEYE',\n",
    "            'DREM',\n",
    "            'PINCP',\n",
    "            'ESR',\n",
    "            'ST',\n",
    "            'FER',\n",
    "            'RAC1P',\n",
    "        ]\n",
    "X = pd.DataFrame(X, columns=columns)"
   ]
  },
  {
   "cell_type": "code",
   "execution_count": 209,
   "id": "ddfad34c",
   "metadata": {},
   "outputs": [],
   "source": [
    "\n",
    "def generate_comp_table(x):\n",
    "    grp_list = columns\n",
    "    x = x.filter(items=grp_list)\n",
    "    mapping = {}\n",
    "    for item in x.columns:\n",
    "        mapping[item] = x[item].value_counts() / len(x[item])\n",
    "    return mapping\n",
    "\n",
    "mapping = generate_comp_table(X)"
   ]
  },
  {
   "cell_type": "code",
   "execution_count": 219,
   "id": "cf79a761",
   "metadata": {},
   "outputs": [],
   "source": [
    "\n",
    "def G_(model, x, y, n):\n",
    "    preds = np.array(model.predict(x).round(), dtype='int64')\n",
    "    y = np.array(y, dtype='int64')\n",
    "    wrong = y ^ preds\n",
    "    wrong_idx = np.nonzero(wrong)\n",
    "\n",
    "    dataset = x.loc[wrong_idx]\n",
    "    filt = dataset.filter(items=columns)\n",
    "    size = len(filt)\n",
    "    op = []\n",
    "    for col in filt.columns:\n",
    "        dist = filt[col].value_counts() / size\n",
    "        rdist = mapping[col][dist.index]\n",
    "        rdist = (rdist) / rdist.sum()\n",
    "        diff = dist - rdist\n",
    "\n",
    "        if not len(diff):\n",
    "            continue\n",
    "        argmax = diff.idxmax()\n",
    "\n",
    "        if 500 <= dist.loc[argmax] * size <= (0.6 * size):\n",
    "            op.append([col, argmax, max(diff)])\n",
    "    top_n = sorted(op, key=lambda x: x[2], reverse=True)[:n]\n",
    "    #\n",
    "    return [np.where(x[col] == argmax) for col, argmax, _ in top_n]"
   ]
  },
  {
   "cell_type": "code",
   "execution_count": 224,
   "id": "6ec07025",
   "metadata": {},
   "outputs": [],
   "source": [
    "from sklearn.linear_model import LinearRegression, SGDClassifier, LogisticRegression\n",
    "from sklearn.metrics import log_loss\n",
    "\n",
    "def LinReg(X, y, wts):\n",
    "    reg = LinearRegression()\n",
    "    reg.fit(X, y, sample_weight=wts)\n",
    "    return reg\n",
    "\n",
    "def SGD(X, y, wts):\n",
    "    reg = SGDClassifier(alpha=0.01, max_iter=200)\n",
    "    reg.fit(X, y, sample_weight=wts)\n",
    "    return reg\n",
    "\n",
    "def LogReg(X, y, wts):\n",
    "    reg = LogisticRegression()\n",
    "    reg.fit(X, y, sample_weight=wts)\n",
    "    return reg\n",
    "\n",
    "def filter_grp(x, y, g_):\n",
    "    return x[g_], y[g_]\n",
    "\n",
    "def eps_k(h, L, x_k, y_k, round=False):\n",
    "    return L(y_k, h.predict(x_k) if not round else h.predict_(x_k).round())\n",
    "\n",
    "def eps_k_rand(H, L, x_k, y_k, round=False):\n",
    "    N = len(y_k)\n",
    "    models = [choice(H) for _ in range(N)]\n",
    "    preds = [\n",
    "        (\n",
    "            models[i].predict(x_k[i].reshape(1, -1))\n",
    "            if not round\n",
    "            else models[i].predict(x_k[i].reshape(1, -1)).round()\n",
    "        ).item()\n",
    "        for i in range(N)\n",
    "    ]\n",
    "    return L(y_k, preds)\n",
    "\n",
    "def weights_updater(lr, err, old_wts, g_):\n",
    "    old_wts[g_] = old_wts[g_] * np.exp(lr * err)\n",
    "    return old_wts\n",
    "\n",
    "def test(H, X, y, G, L, eps):\n",
    "    K = len(G)\n",
    "    errs = [None for _ in range(K)]\n",
    "    for k in range(K):\n",
    "        err = eps(H, L, *filter_grp(X, y, G[k]))\n",
    "        errs[k] = err\n",
    "    return errs"
   ]
  },
  {
   "cell_type": "code",
   "execution_count": 11,
   "id": "a224655e",
   "metadata": {},
   "outputs": [],
   "source": [
    "X_ = X.to_numpy()"
   ]
  },
  {
   "cell_type": "code",
   "execution_count": 242,
   "id": "05087a4c",
   "metadata": {},
   "outputs": [],
   "source": [
    "\n",
    "# Number of iterations\n",
    "T = 1000\n",
    "L = log_loss\n",
    "\n",
    "model = LinearRegression().fit(X_, y)\n",
    "G = G_(model, X, y, 5)\n",
    "k = len(G)\n",
    "\n",
    "def MinimaxFair(X, y, G, L, T, H_, lr=None):\n",
    "    H = [None for _ in range(T)]\n",
    "    N = len(y)\n",
    "    K = len(G)\n",
    "    lr = lr if lr else min(np.log(N) / T, 0.01)\n",
    "    weights = np.ones(N) / N\n",
    "    overall_errs = []\n",
    "\n",
    "    for t in range(T):\n",
    "        h_t = H_(X, y, weights)\n",
    "        H[t] = h_t\n",
    "        errs = [None for _ in range(K)]\n",
    "        for k in range(K):\n",
    "            err = eps_k(h_t, sklearn.metrics.zero_one_loss, *filter_grp(X, y, G[k]))\n",
    "            weights = weights_updater(lr, err, weights, G[k])\n",
    "            errs[k] = err\n",
    "        overall_errs.append(errs)\n",
    "        if t % 10 == 0:\n",
    "            print(f\"Iteration {t}\")\n",
    "    return H, overall_errs"
   ]
  },
  {
   "cell_type": "code",
   "execution_count": 237,
   "id": "f3f1e339",
   "metadata": {},
   "outputs": [
    {
     "name": "stdout",
     "output_type": "stream",
     "text": [
      "Iteration 0\n",
      "Iteration 10\n",
      "Iteration 20\n",
      "Iteration 30\n",
      "Iteration 40\n",
      "Iteration 50\n",
      "Iteration 60\n",
      "Iteration 70\n",
      "Iteration 80\n",
      "Iteration 90\n",
      "Iteration 100\n",
      "Iteration 110\n",
      "Iteration 120\n",
      "Iteration 130\n",
      "Iteration 140\n",
      "Iteration 150\n",
      "Iteration 160\n",
      "Iteration 170\n",
      "Iteration 180\n",
      "Iteration 190\n",
      "Iteration 200\n",
      "Iteration 210\n",
      "Iteration 220\n",
      "Iteration 230\n",
      "Iteration 240\n",
      "Iteration 250\n",
      "Iteration 260\n",
      "Iteration 270\n",
      "Iteration 280\n",
      "Iteration 290\n",
      "Iteration 300\n",
      "Iteration 310\n",
      "Iteration 320\n",
      "Iteration 330\n",
      "Iteration 340\n",
      "Iteration 350\n",
      "Iteration 360\n",
      "Iteration 370\n",
      "Iteration 380\n",
      "Iteration 390\n",
      "Iteration 400\n",
      "Iteration 410\n",
      "Iteration 420\n",
      "Iteration 430\n",
      "Iteration 440\n",
      "Iteration 450\n",
      "Iteration 460\n",
      "Iteration 470\n",
      "Iteration 480\n",
      "Iteration 490\n",
      "Iteration 500\n",
      "Iteration 510\n",
      "Iteration 520\n",
      "Iteration 530\n",
      "Iteration 540\n",
      "Iteration 550\n",
      "Iteration 560\n",
      "Iteration 570\n",
      "Iteration 580\n",
      "Iteration 590\n",
      "Iteration 600\n",
      "Iteration 610\n",
      "Iteration 620\n",
      "Iteration 630\n",
      "Iteration 640\n",
      "Iteration 650\n",
      "Iteration 660\n",
      "Iteration 670\n",
      "Iteration 680\n",
      "Iteration 690\n",
      "Iteration 700\n",
      "Iteration 710\n",
      "Iteration 720\n",
      "Iteration 730\n",
      "Iteration 740\n",
      "Iteration 750\n",
      "Iteration 760\n",
      "Iteration 770\n",
      "Iteration 780\n",
      "Iteration 790\n",
      "Iteration 800\n",
      "Iteration 810\n",
      "Iteration 820\n",
      "Iteration 830\n",
      "Iteration 840\n",
      "Iteration 850\n",
      "Iteration 860\n",
      "Iteration 870\n",
      "Iteration 880\n",
      "Iteration 890\n",
      "Iteration 900\n",
      "Iteration 910\n",
      "Iteration 920\n",
      "Iteration 930\n",
      "Iteration 940\n",
      "Iteration 950\n",
      "Iteration 960\n",
      "Iteration 970\n",
      "Iteration 980\n",
      "Iteration 990\n"
     ]
    }
   ],
   "source": [
    "H_bar, errs = MinimaxFair(X_, y, G, L, T, LinReg)"
   ]
  },
  {
   "cell_type": "code",
   "execution_count": 238,
   "id": "4e4ac63d",
   "metadata": {},
   "outputs": [
    {
     "name": "stdout",
     "output_type": "stream",
     "text": [
      "[0.2363181450624761, 0.23185877854015582, 0.22087031581808148, 0.22926240451089147, 0.2358359679883673]\n"
     ]
    }
   ],
   "source": [
    "errors = test(H_bar, X_, y, G, sklearn.metrics.mean_squared_error, partial(eps_k_rand, round=False))\n",
    "print(errors)"
   ]
  },
  {
   "cell_type": "code",
   "execution_count": 239,
   "id": "71fe5c88",
   "metadata": {},
   "outputs": [
    {
     "data": {
      "text/plain": [
       "<matplotlib.legend.Legend at 0x7f7dc67fcdc0>"
      ]
     },
     "execution_count": 239,
     "metadata": {},
     "output_type": "execute_result"
    },
    {
     "data": {
      "image/png": "[encoded data removed]",
      "text/plain": [
       "<Figure size 432x288 with 1 Axes>"
      ]
     },
     "metadata": {
      "needs_background": "light"
     },
     "output_type": "display_data"
    }
   ],
   "source": [
    "import matplotlib.pyplot as plt\n",
    "plt.plot(np.array(errs))\n",
    "plt.legend([('NATIVITY', 2.0), ('PINCP', 0.0), ('ANC', 1.0), ('RAC1P', 2.0), ('CIT', 4.0)])"
   ]
  },
  {
   "cell_type": "code",
   "execution_count": 243,
   "id": "f8e3ec11",
   "metadata": {},
   "outputs": [
    {
     "name": "stdout",
     "output_type": "stream",
     "text": [
      "Iteration 0\n",
      "Iteration 10\n",
      "Iteration 20\n",
      "Iteration 30\n",
      "Iteration 40\n",
      "Iteration 50\n",
      "Iteration 60\n",
      "Iteration 70\n",
      "Iteration 80\n",
      "Iteration 90\n",
      "Iteration 100\n",
      "Iteration 110\n",
      "Iteration 120\n",
      "Iteration 130\n",
      "Iteration 140\n",
      "Iteration 150\n",
      "Iteration 160\n",
      "Iteration 170\n",
      "Iteration 180\n",
      "Iteration 190\n",
      "Iteration 200\n",
      "Iteration 210\n",
      "Iteration 220\n",
      "Iteration 230\n",
      "Iteration 240\n",
      "Iteration 250\n",
      "Iteration 260\n",
      "Iteration 270\n",
      "Iteration 280\n",
      "Iteration 290\n",
      "Iteration 300\n",
      "Iteration 310\n",
      "Iteration 320\n",
      "Iteration 330\n",
      "Iteration 340\n",
      "Iteration 350\n",
      "Iteration 360\n",
      "Iteration 370\n",
      "Iteration 380\n",
      "Iteration 390\n",
      "Iteration 400\n",
      "Iteration 410\n",
      "Iteration 420\n",
      "Iteration 430\n",
      "Iteration 440\n",
      "Iteration 450\n",
      "Iteration 460\n",
      "Iteration 470\n",
      "Iteration 480\n",
      "Iteration 490\n",
      "Iteration 500\n",
      "Iteration 510\n",
      "Iteration 520\n",
      "Iteration 530\n",
      "Iteration 540\n",
      "Iteration 550\n",
      "Iteration 560\n",
      "Iteration 570\n",
      "Iteration 580\n",
      "Iteration 590\n",
      "Iteration 600\n",
      "Iteration 610\n",
      "Iteration 620\n",
      "Iteration 630\n",
      "Iteration 640\n",
      "Iteration 650\n",
      "Iteration 660\n",
      "Iteration 670\n",
      "Iteration 680\n",
      "Iteration 690\n",
      "Iteration 700\n",
      "Iteration 710\n",
      "Iteration 720\n",
      "Iteration 730\n",
      "Iteration 740\n",
      "Iteration 750\n",
      "Iteration 760\n",
      "Iteration 770\n",
      "Iteration 780\n",
      "Iteration 790\n",
      "Iteration 800\n",
      "Iteration 810\n",
      "Iteration 820\n",
      "Iteration 830\n",
      "Iteration 840\n",
      "Iteration 850\n",
      "Iteration 860\n",
      "Iteration 870\n",
      "Iteration 880\n",
      "Iteration 890\n",
      "Iteration 900\n",
      "Iteration 910\n",
      "Iteration 920\n",
      "Iteration 930\n",
      "Iteration 940\n",
      "Iteration 950\n",
      "Iteration 960\n",
      "Iteration 970\n",
      "Iteration 980\n",
      "Iteration 990\n"
     ]
    }
   ],
   "source": [
    "import warnings\n",
    "warnings.filterwarnings(\"ignore\")\n",
    "H_bar_3, errs_3 = MinimaxFair(X_, y, G, L, T, LogReg)"
   ]
  },
  {
   "cell_type": "code",
   "execution_count": 244,
   "id": "bc6b5f16",
   "metadata": {},
   "outputs": [
    {
     "data": {
      "text/plain": [
       "<matplotlib.legend.Legend at 0x7f7d405cb670>"
      ]
     },
     "execution_count": 244,
     "metadata": {},
     "output_type": "execute_result"
    },
    {
     "data": {
      "image/png": "[encoded data removed]",
      "text/plain": [
       "<Figure size 432x288 with 1 Axes>"
      ]
     },
     "metadata": {
      "needs_background": "light"
     },
     "output_type": "display_data"
    }
   ],
   "source": [
    "plt.plot(np.array(errs_3))\n",
    "plt.legend([('NATIVITY', 2.0), ('PINCP', 0.0), ('ANC', 1.0), ('RAC1P', 2.0), ('CIT', 4.0)])"
   ]
  },
  {
   "cell_type": "code",
   "execution_count": 245,
   "id": "70793c7a",
   "metadata": {},
   "outputs": [
    {
     "data": {
      "text/plain": [
       "[0.39735638664411455,\n",
       " 0.4131285910408298,\n",
       " 0.3655599047436564,\n",
       " 0.3819800638730282,\n",
       " 0.4019442644199611]"
      ]
     },
     "execution_count": 245,
     "metadata": {},
     "output_type": "execute_result"
    }
   ],
   "source": [
    "test(H_bar_3, X_, y, G, sklearn.metrics.zero_one_loss, partial(eps_k_rand, round=False))"
   ]
  }
 ],
 "metadata": {
  "interpreter": {
   "hash": "397704579725e15f5c7cb49fe5f0341eb7531c82d19f2c29d197e8b64ab5776b"
  },
  "kernelspec": {
   "display_name": "Python 3.9.0 64-bit",
   "language": "python",
   "name": "python3"
  },
  "language_info": {
   "codemirror_mode": {
    "name": "ipython",
    "version": 3
   },
   "file_extension": ".py",
   "mimetype": "text/x-python",
   "name": "python",
   "nbconvert_exporter": "python",
   "pygments_lexer": "ipython3",
   "version": "3.9.0"
  }
 },
 "nbformat": 4,
 "nbformat_minor": 5
}
