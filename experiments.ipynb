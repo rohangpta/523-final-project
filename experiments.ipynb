{
 "cells": [
  {
   "cell_type": "code",
   "execution_count": 8,
   "id": "4b945334-6fe4-4734-995f-33d420f71ab3",
   "metadata": {},
   "outputs": [],
   "source": [
    "import numpy as np\n",
    "import pandas as pd"
   ]
  },
  {
   "cell_type": "code",
   "execution_count": 9,
   "id": "95682358-be4c-4c22-beef-bc1c91d313e5",
   "metadata": {},
   "outputs": [],
   "source": [
    "from folktables import ACSDataSource, ACSEmployment, ACSPublicCoverage\n",
    "data_source = ACSDataSource(survey_year=2018, horizon='1-Year', survey='person')\n",
    "acs_data = data_source.get_data(states=['NY'], download=True)\n",
    "X, y, group = ACSPublicCoverage.df_to_numpy(acs_data)\n",
    "\n",
    "columns = [\n",
    "            'AGEP',\n",
    "            'SCHL',\n",
    "            'MAR',\n",
    "            'SEX',\n",
    "            'DIS',\n",
    "            'ESP',\n",
    "            'CIT',\n",
    "            'MIG',\n",
    "            'MIL',\n",
    "            'ANC',\n",
    "            'NATIVITY',\n",
    "            'DEAR',\n",
    "            'DEYE',\n",
    "            'DREM',\n",
    "            'PINCP',\n",
    "            'ESR',\n",
    "            'ST',\n",
    "            'FER',\n",
    "            'RAC1P',\n",
    "        ]\n",
    "X = pd.DataFrame(X, columns=columns)"
   ]
  },
  {
   "cell_type": "code",
   "execution_count": 10,
   "id": "6ec07025",
   "metadata": {},
   "outputs": [],
   "source": [
    "from sklearn.linear_model import LinearRegression \n",
    "from sklearn.metrics import log_loss\n",
    "\n",
    "def LinReg(X, y, wts):\n",
    "    reg = LinearRegression()\n",
    "    reg.fit(X, y, sample_weight=wts)\n",
    "    return reg\n",
    "\n",
    "def filter_grp(x, y, g_):\n",
    "    return x[g_], y[g_]\n",
    "\n",
    "def eps_k(h, L, x_k, y_k):\n",
    "    return L(y_k, h.predict(x_k))\n",
    "\n",
    "def weights_updater(lr, err, old_wts, g_):\n",
    "    old_wts[g_] = old_wts[g_] * np.exp(lr * err)\n",
    "    return old_wts"
   ]
  },
  {
   "cell_type": "code",
   "execution_count": 11,
   "id": "a224655e",
   "metadata": {},
   "outputs": [],
   "source": [
    "X_ = X.to_numpy()"
   ]
  },
  {
   "cell_type": "code",
   "execution_count": 16,
   "id": "05087a4c",
   "metadata": {},
   "outputs": [],
   "source": [
    "\n",
    "# Number of iterations\n",
    "T = 30\n",
    "L = log_loss\n",
    "\n",
    "k = 3\n",
    "G = [None for _ in range(k)]\n",
    "\n",
    "\n",
    "G[0] = np.where(X['RAC1P'] == 6)\n",
    "G[1] = np.where(X['RAC1P'] == 2)\n",
    "G[2] = np.where(X['NATIVITY'] == 2)\n",
    "\n",
    "\n",
    "def MinimaxFair(X, y, G, L, T, H_, lr=None):\n",
    "    H = [None for _ in range(T)]\n",
    "    N = len(y)\n",
    "    K = len(G)\n",
    "    lr = lr if lr else np.log(N) / T\n",
    "    weights = np.ones(N) / N\n",
    "\n",
    "    for t in range(T):\n",
    "        h_t = H_(X, y, weights)\n",
    "        H[t] = h_t\n",
    "        errs = [None for _ in range(K)]\n",
    "        for k in range(K):\n",
    "            err = eps_k(h_t, L, *filter_grp(X, y, G[k]))\n",
    "            weights = weights_updater(lr, err, weights, G[k])\n",
    "            errs[k] = err\n",
    "    return H\n",
    "\n",
    "assert len(MinimaxFair(X_, y, G, L, T, LinReg)) == 30"
   ]
  },
  {
   "cell_type": "code",
   "execution_count": null,
   "id": "f3f1e339",
   "metadata": {},
   "outputs": [],
   "source": []
  }
 ],
 "metadata": {
  "interpreter": {
   "hash": "397704579725e15f5c7cb49fe5f0341eb7531c82d19f2c29d197e8b64ab5776b"
  },
  "kernelspec": {
   "display_name": "Python 3.9.0 64-bit",
   "language": "python",
   "name": "python3"
  },
  "language_info": {
   "codemirror_mode": {
    "name": "ipython",
    "version": 3
   },
   "file_extension": ".py",
   "mimetype": "text/x-python",
   "name": "python",
   "nbconvert_exporter": "python",
   "pygments_lexer": "ipython3",
   "version": "3.9.0"
  }
 },
 "nbformat": 4,
 "nbformat_minor": 5
}
