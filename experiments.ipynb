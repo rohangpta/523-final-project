{
 "cells": [
  {
   "cell_type": "code",
   "execution_count": 92,
   "id": "4b945334-6fe4-4734-995f-33d420f71ab3",
   "metadata": {},
   "outputs": [],
   "source": [
    "import numpy as np\n",
    "import pandas as pd\n",
    "from functools import partial"
   ]
  },
  {
   "cell_type": "code",
   "execution_count": 9,
   "id": "95682358-be4c-4c22-beef-bc1c91d313e5",
   "metadata": {},
   "outputs": [],
   "source": [
    "from folktables import ACSDataSource, ACSEmployment, ACSPublicCoverage\n",
    "data_source = ACSDataSource(survey_year=2018, horizon='1-Year', survey='person')\n",
    "acs_data = data_source.get_data(states=['NY'], download=True)\n",
    "X, y, group = ACSPublicCoverage.df_to_numpy(acs_data)\n",
    "\n",
    "columns = [\n",
    "            'AGEP',\n",
    "            'SCHL',\n",
    "            'MAR',\n",
    "            'SEX',\n",
    "            'DIS',\n",
    "            'ESP',\n",
    "            'CIT',\n",
    "            'MIG',\n",
    "            'MIL',\n",
    "            'ANC',\n",
    "            'NATIVITY',\n",
    "            'DEAR',\n",
    "            'DEYE',\n",
    "            'DREM',\n",
    "            'PINCP',\n",
    "            'ESR',\n",
    "            'ST',\n",
    "            'FER',\n",
    "            'RAC1P',\n",
    "        ]\n",
    "X = pd.DataFrame(X, columns=columns)"
   ]
  },
  {
   "cell_type": "code",
   "execution_count": 149,
   "id": "6ec07025",
   "metadata": {},
   "outputs": [],
   "source": [
    "from sklearn.linear_model import LinearRegression, SGDClassifier, LogisticRegression\n",
    "from sklearn.metrics import log_loss\n",
    "\n",
    "def LinReg(X, y, wts):\n",
    "    reg = LinearRegression()\n",
    "    reg.fit(X, y, sample_weight=wts)\n",
    "    return reg\n",
    "\n",
    "def SGD(X, y, wts):\n",
    "    reg = SGDClassifier(alpha=0.01, max_iter=200)\n",
    "    reg.fit(X, y, sample_weight=wts)\n",
    "    return reg\n",
    "\n",
    "def LogReg(X, y, wts):\n",
    "    reg = LogisticRegression()\n",
    "    reg.fit(X, y, sample_weight=wts)\n",
    "    return reg\n",
    "\n",
    "def filter_grp(x, y, g_):\n",
    "    return x[g_], y[g_]\n",
    "\n",
    "def eps_k(h, L, x_k, y_k, round=False):\n",
    "    return L(y_k, h.predict(x_k) if not round else h.predict_(x_k).round())\n",
    "\n",
    "def eps_k_rand(H, L, x_k, y_k, round=False):\n",
    "    N = len(y_k)\n",
    "    models = [choice(H) for _ in range(N)]\n",
    "    preds = [\n",
    "        (\n",
    "            models[i].predict(x_k[i].reshape(1, -1))\n",
    "            if not round\n",
    "            else models[i].predict(x_k[i].reshape(1, -1)).round()\n",
    "        ).item()\n",
    "        for i in range(N)\n",
    "    ]\n",
    "    return L(y_k, preds)\n",
    "\n",
    "def weights_updater(lr, err, old_wts, g_):\n",
    "    old_wts[g_] = old_wts[g_] * np.exp(lr * err)\n",
    "    return old_wts"
   ]
  },
  {
   "cell_type": "code",
   "execution_count": 11,
   "id": "a224655e",
   "metadata": {},
   "outputs": [],
   "source": [
    "X_ = X.to_numpy()"
   ]
  },
  {
   "cell_type": "code",
   "execution_count": 150,
   "id": "05087a4c",
   "metadata": {},
   "outputs": [],
   "source": [
    "\n",
    "# Number of iterations\n",
    "T = 300\n",
    "L = log_loss\n",
    "k = 3\n",
    "G = [None for _ in range(k)]\n",
    "\n",
    "\n",
    "G[0] = np.where(X['RAC1P'] == 6)\n",
    "G[1] = np.where(X['RAC1P'] == 2)\n",
    "G[2] = np.where(X['NATIVITY'] == 2)\n",
    "\n",
    "\n",
    "def MinimaxFair(X, y, G, L, T, H_, lr=None):\n",
    "    H = [None for _ in range(T)]\n",
    "    N = len(y)\n",
    "    K = len(G)\n",
    "    lr = lr if lr else np.log(N) / T\n",
    "    weights = np.ones(N) / N\n",
    "    overall_errs = []\n",
    "\n",
    "    for t in range(T):\n",
    "        h_t = H_(X, y, weights)\n",
    "        H[t] = h_t\n",
    "        errs = [None for _ in range(K)]\n",
    "        for k in range(K):\n",
    "            err = eps_k(h_t, sklearn.metrics.zero_one_loss, *filter_grp(X, y, G[k]))\n",
    "            weights = weights_updater(lr, err, weights, G[k])\n",
    "            errs[k] = err\n",
    "        overall_errs.append(errs)\n",
    "        if t % 10 == 0:\n",
    "            print(f\"Iteration {t}\")\n",
    "    return H, overall_errs"
   ]
  },
  {
   "cell_type": "code",
   "execution_count": 98,
   "id": "f3f1e339",
   "metadata": {},
   "outputs": [],
   "source": [
    "# Diff model classes and loss functions --\n",
    "# Plotting --\n",
    "# Hyperparam tuning --\n",
    "# Group finder"
   ]
  },
  {
   "cell_type": "code",
   "execution_count": 120,
   "id": "bb7c8d64",
   "metadata": {},
   "outputs": [
    {
     "name": "stdout",
     "output_type": "stream",
     "text": [
      "Iteration 0\n",
      "Iteration 10\n",
      "Iteration 20\n",
      "Iteration 30\n",
      "Iteration 40\n",
      "Iteration 50\n",
      "Iteration 60\n",
      "Iteration 70\n",
      "Iteration 80\n",
      "Iteration 90\n",
      "Iteration 100\n",
      "Iteration 110\n",
      "Iteration 120\n",
      "Iteration 130\n",
      "Iteration 140\n",
      "Iteration 150\n",
      "Iteration 160\n",
      "Iteration 170\n",
      "Iteration 180\n",
      "Iteration 190\n",
      "Iteration 200\n",
      "Iteration 210\n",
      "Iteration 220\n",
      "Iteration 230\n",
      "Iteration 240\n",
      "Iteration 250\n",
      "Iteration 260\n",
      "Iteration 270\n",
      "Iteration 280\n",
      "Iteration 290\n"
     ]
    }
   ],
   "source": [
    "import sklearn\n",
    "from random import choice\n",
    "\n",
    "\n",
    "H_bar, errs_1 = MinimaxFair(X_, y, G, L, T, SGD)"
   ]
  },
  {
   "cell_type": "code",
   "execution_count": 116,
   "id": "a79df686",
   "metadata": {},
   "outputs": [
    {
     "name": "stdout",
     "output_type": "stream",
     "text": [
      "Iteration 0\n",
      "Iteration 10\n",
      "Iteration 20\n",
      "Iteration 30\n",
      "Iteration 40\n",
      "Iteration 50\n",
      "Iteration 60\n",
      "Iteration 70\n",
      "Iteration 80\n",
      "Iteration 90\n",
      "Iteration 100\n",
      "Iteration 110\n",
      "Iteration 120\n",
      "Iteration 130\n",
      "Iteration 140\n",
      "Iteration 150\n",
      "Iteration 160\n",
      "Iteration 170\n",
      "Iteration 180\n",
      "Iteration 190\n",
      "Iteration 200\n",
      "Iteration 210\n",
      "Iteration 220\n",
      "Iteration 230\n",
      "Iteration 240\n",
      "Iteration 250\n",
      "Iteration 260\n",
      "Iteration 270\n",
      "Iteration 280\n",
      "Iteration 290\n"
     ]
    }
   ],
   "source": [
    "H_bar_2, errs_2 = MinimaxFair(X_, y, G, L, T, LinReg)"
   ]
  },
  {
   "cell_type": "code",
   "execution_count": 97,
   "id": "4e4ac63d",
   "metadata": {},
   "outputs": [
    {
     "name": "stdout",
     "output_type": "stream",
     "text": [
      "[0.22819032512890533, 0.22347936950079997, 0.22967528275871518]\n",
      "0.20460702204395503\n"
     ]
    }
   ],
   "source": [
    "def test(H, X, y, G, L, eps):\n",
    "    K = len(G)\n",
    "    errs = [None for _ in range(K)]\n",
    "    for k in range(K):\n",
    "        err = eps(H, L, *filter_grp(X, y, G[k]))\n",
    "        errs[k] = err\n",
    "    return errs\n",
    "\n",
    "errors = test(H_bar_2, X_, y, G, sklearn.metrics.mean_squared_error, partial(eps_k_rand, round=False))\n",
    "\n",
    "print(errors)\n",
    "\n",
    "L_2 = sklearn.metrics.mean_squared_error\n",
    "\n",
    "print(min(L_2(y, m.predict(X_)) for m in H_bar_2))"
   ]
  },
  {
   "cell_type": "code",
   "execution_count": 117,
   "id": "71fe5c88",
   "metadata": {},
   "outputs": [
    {
     "data": {
      "text/plain": [
       "<matplotlib.legend.Legend at 0x7f7de088d1f0>"
      ]
     },
     "execution_count": 117,
     "metadata": {},
     "output_type": "execute_result"
    },
    {
     "data": {
      "image/png": "[encoded data removed]",
      "text/plain": [
       "<Figure size 432x288 with 1 Axes>"
      ]
     },
     "metadata": {
      "needs_background": "light"
     },
     "output_type": "display_data"
    }
   ],
   "source": [
    "import matplotlib.pyplot as plt\n",
    "plt.plot(np.array(errs_2))\n",
    "plt.legend([\"Asian\", \"Black\", \"Foreign born\"])"
   ]
  },
  {
   "cell_type": "code",
   "execution_count": 151,
   "id": "f8e3ec11",
   "metadata": {},
   "outputs": [
    {
     "name": "stdout",
     "output_type": "stream",
     "text": [
      "Iteration 0\n",
      "Iteration 10\n",
      "Iteration 20\n",
      "Iteration 30\n",
      "Iteration 40\n",
      "Iteration 50\n",
      "Iteration 60\n",
      "Iteration 70\n",
      "Iteration 80\n",
      "Iteration 90\n",
      "Iteration 100\n",
      "Iteration 110\n",
      "Iteration 120\n",
      "Iteration 130\n",
      "Iteration 140\n",
      "Iteration 150\n",
      "Iteration 160\n",
      "Iteration 170\n",
      "Iteration 180\n",
      "Iteration 190\n",
      "Iteration 200\n",
      "Iteration 210\n",
      "Iteration 220\n",
      "Iteration 230\n",
      "Iteration 240\n",
      "Iteration 250\n",
      "Iteration 260\n",
      "Iteration 270\n",
      "Iteration 280\n",
      "Iteration 290\n"
     ]
    }
   ],
   "source": [
    "import warnings\n",
    "warnings.filterwarnings(\"ignore\")\n",
    "H_bar_3, errs_3 = MinimaxFair(X_, y, G, L, T, LogReg)"
   ]
  },
  {
   "cell_type": "code",
   "execution_count": 152,
   "id": "bc6b5f16",
   "metadata": {},
   "outputs": [
    {
     "data": {
      "text/plain": [
       "<matplotlib.legend.Legend at 0x7f7d514d4430>"
      ]
     },
     "execution_count": 152,
     "metadata": {},
     "output_type": "execute_result"
    },
    {
     "data": {
      "image/png": "[encoded data removed]",
      "text/plain": [
       "<Figure size 432x288 with 1 Axes>"
      ]
     },
     "metadata": {
      "needs_background": "light"
     },
     "output_type": "display_data"
    }
   ],
   "source": [
    "plt.plot(np.array(errs_3))\n",
    "plt.legend([\"Asian\", \"Black\", \"Foreign born\"])"
   ]
  },
  {
   "cell_type": "code",
   "execution_count": 156,
   "id": "70793c7a",
   "metadata": {},
   "outputs": [
    {
     "data": {
      "text/plain": [
       "[0.38110749185667747, 0.38362527823478176, 0.3971684520453549]"
      ]
     },
     "execution_count": 156,
     "metadata": {},
     "output_type": "execute_result"
    }
   ],
   "source": [
    "test(H_bar_3, X_, y, G, sklearn.metrics.zero_one_loss, partial(eps_k_rand, round=False))"
   ]
  },
  {
   "cell_type": "code",
   "execution_count": null,
   "id": "8d2fe1e8",
   "metadata": {},
   "outputs": [],
   "source": []
  }
 ],
 "metadata": {
  "interpreter": {
   "hash": "397704579725e15f5c7cb49fe5f0341eb7531c82d19f2c29d197e8b64ab5776b"
  },
  "kernelspec": {
   "display_name": "Python 3.9.0 64-bit",
   "language": "python",
   "name": "python3"
  },
  "language_info": {
   "codemirror_mode": {
    "name": "ipython",
    "version": 3
   },
   "file_extension": ".py",
   "mimetype": "text/x-python",
   "name": "python",
   "nbconvert_exporter": "python",
   "pygments_lexer": "ipython3",
   "version": "3.9.0"
  }
 },
 "nbformat": 4,
 "nbformat_minor": 5
}
